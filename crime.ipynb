{
 "cells": [
  {
   "cell_type": "markdown",
   "metadata": {},
   "source": [
    "# Kaggle-dataset-analysis\n",
    "## crime in Boston\n",
    "# 2019-02-16 "
   ]
  },
  {
   "cell_type": "code",
   "execution_count": 1,
   "metadata": {},
   "outputs": [],
   "source": [
    "import pandas as pd\n",
    "import numpy as np\n",
    "import matplotlib.pyplot as plt"
   ]
  },
  {
   "cell_type": "code",
   "execution_count": 2,
   "metadata": {},
   "outputs": [],
   "source": [
    "original=pd.read_csv('./crime.csv',engine='python')"
   ]
  },
  {
   "cell_type": "code",
   "execution_count": 3,
   "metadata": {},
   "outputs": [
    {
     "data": {
      "text/plain": [
       "array([2018, 2017, 2016, 2015], dtype=int64)"
      ]
     },
     "execution_count": 3,
     "metadata": {},
     "output_type": "execute_result"
    }
   ],
   "source": [
    "original['YEAR'].unique()"
   ]
  },
  {
   "cell_type": "code",
   "execution_count": 4,
   "metadata": {},
   "outputs": [],
   "source": [
    "original['OCCURRED_ON_DATE']=pd.to_datetime(original['OCCURRED_ON_DATE'])"
   ]
  },
  {
   "cell_type": "code",
   "execution_count": 5,
   "metadata": {},
   "outputs": [
    {
     "data": {
      "text/plain": [
       "INCIDENT_NUMBER        False\n",
       "OFFENSE_CODE           False\n",
       "OFFENSE_CODE_GROUP     False\n",
       "OFFENSE_DESCRIPTION    False\n",
       "DISTRICT               False\n",
       "REPORTING_AREA         False\n",
       "SHOOTING               False\n",
       "OCCURRED_ON_DATE       False\n",
       "YEAR                   False\n",
       "MONTH                  False\n",
       "DAY_OF_WEEK            False\n",
       "HOUR                   False\n",
       "UCR_PART               False\n",
       "STREET                 False\n",
       "Lat                    False\n",
       "Long                   False\n",
       "Location               False\n",
       "dtype: bool"
      ]
     },
     "execution_count": 5,
     "metadata": {},
     "output_type": "execute_result"
    }
   ],
   "source": [
    "np.isnan(original.any())"
   ]
  },
  {
   "cell_type": "code",
   "execution_count": 6,
   "metadata": {},
   "outputs": [
    {
     "data": {
      "text/plain": [
       "array(['E18', 'D14', 'B2', 'A1', 'A7', 'C11', nan, 'D4', 'E13', 'B3',\n",
       "       'C6', 'A15', 'E5'], dtype=object)"
      ]
     },
     "execution_count": 6,
     "metadata": {},
     "output_type": "execute_result"
    }
   ],
   "source": [
    "original['DISTRICT'].unique()"
   ]
  },
  {
   "cell_type": "markdown",
   "metadata": {},
   "source": [
    "## Visualization-by DISTRICT"
   ]
  },
  {
   "cell_type": "code",
   "execution_count": 7,
   "metadata": {},
   "outputs": [],
   "source": [
    "disgroup=original.groupby(by='DISTRICT')"
   ]
  },
  {
   "cell_type": "code",
   "execution_count": 8,
   "metadata": {},
   "outputs": [],
   "source": [
    "groupcount=disgroup.count()"
   ]
  },
  {
   "cell_type": "code",
   "execution_count": 9,
   "metadata": {},
   "outputs": [
    {
     "data": {
      "text/html": [
       "<div>\n",
       "<style scoped>\n",
       "    .dataframe tbody tr th:only-of-type {\n",
       "        vertical-align: middle;\n",
       "    }\n",
       "\n",
       "    .dataframe tbody tr th {\n",
       "        vertical-align: top;\n",
       "    }\n",
       "\n",
       "    .dataframe thead th {\n",
       "        text-align: right;\n",
       "    }\n",
       "</style>\n",
       "<table border=\"1\" class=\"dataframe\">\n",
       "  <thead>\n",
       "    <tr style=\"text-align: right;\">\n",
       "      <th></th>\n",
       "      <th>INCIDENT_NUMBER</th>\n",
       "      <th>OFFENSE_CODE</th>\n",
       "      <th>OFFENSE_CODE_GROUP</th>\n",
       "      <th>OFFENSE_DESCRIPTION</th>\n",
       "      <th>REPORTING_AREA</th>\n",
       "      <th>SHOOTING</th>\n",
       "      <th>OCCURRED_ON_DATE</th>\n",
       "      <th>YEAR</th>\n",
       "      <th>MONTH</th>\n",
       "      <th>DAY_OF_WEEK</th>\n",
       "      <th>HOUR</th>\n",
       "      <th>UCR_PART</th>\n",
       "      <th>STREET</th>\n",
       "      <th>Lat</th>\n",
       "      <th>Long</th>\n",
       "      <th>Location</th>\n",
       "    </tr>\n",
       "    <tr>\n",
       "      <th>DISTRICT</th>\n",
       "      <th></th>\n",
       "      <th></th>\n",
       "      <th></th>\n",
       "      <th></th>\n",
       "      <th></th>\n",
       "      <th></th>\n",
       "      <th></th>\n",
       "      <th></th>\n",
       "      <th></th>\n",
       "      <th></th>\n",
       "      <th></th>\n",
       "      <th></th>\n",
       "      <th></th>\n",
       "      <th></th>\n",
       "      <th></th>\n",
       "      <th></th>\n",
       "    </tr>\n",
       "  </thead>\n",
       "  <tbody>\n",
       "    <tr>\n",
       "      <th>A1</th>\n",
       "      <td>36735</td>\n",
       "      <td>36735</td>\n",
       "      <td>36735</td>\n",
       "      <td>36735</td>\n",
       "      <td>36735</td>\n",
       "      <td>12</td>\n",
       "      <td>36735</td>\n",
       "      <td>36735</td>\n",
       "      <td>36735</td>\n",
       "      <td>36735</td>\n",
       "      <td>36735</td>\n",
       "      <td>36733</td>\n",
       "      <td>35186</td>\n",
       "      <td>32947</td>\n",
       "      <td>32947</td>\n",
       "      <td>36735</td>\n",
       "    </tr>\n",
       "    <tr>\n",
       "      <th>A15</th>\n",
       "      <td>6663</td>\n",
       "      <td>6663</td>\n",
       "      <td>6663</td>\n",
       "      <td>6663</td>\n",
       "      <td>6663</td>\n",
       "      <td>5</td>\n",
       "      <td>6663</td>\n",
       "      <td>6663</td>\n",
       "      <td>6663</td>\n",
       "      <td>6663</td>\n",
       "      <td>6663</td>\n",
       "      <td>6663</td>\n",
       "      <td>6486</td>\n",
       "      <td>6321</td>\n",
       "      <td>6321</td>\n",
       "      <td>6663</td>\n",
       "    </tr>\n",
       "    <tr>\n",
       "      <th>A7</th>\n",
       "      <td>13634</td>\n",
       "      <td>13634</td>\n",
       "      <td>13634</td>\n",
       "      <td>13634</td>\n",
       "      <td>13634</td>\n",
       "      <td>17</td>\n",
       "      <td>13634</td>\n",
       "      <td>13634</td>\n",
       "      <td>13634</td>\n",
       "      <td>13634</td>\n",
       "      <td>13634</td>\n",
       "      <td>13631</td>\n",
       "      <td>13328</td>\n",
       "      <td>13094</td>\n",
       "      <td>13094</td>\n",
       "      <td>13634</td>\n",
       "    </tr>\n",
       "    <tr>\n",
       "      <th>B2</th>\n",
       "      <td>51288</td>\n",
       "      <td>51288</td>\n",
       "      <td>51288</td>\n",
       "      <td>51288</td>\n",
       "      <td>51288</td>\n",
       "      <td>352</td>\n",
       "      <td>51288</td>\n",
       "      <td>51288</td>\n",
       "      <td>51288</td>\n",
       "      <td>51288</td>\n",
       "      <td>51288</td>\n",
       "      <td>51272</td>\n",
       "      <td>49445</td>\n",
       "      <td>47488</td>\n",
       "      <td>47488</td>\n",
       "      <td>51288</td>\n",
       "    </tr>\n",
       "    <tr>\n",
       "      <th>B3</th>\n",
       "      <td>36400</td>\n",
       "      <td>36400</td>\n",
       "      <td>36400</td>\n",
       "      <td>36400</td>\n",
       "      <td>36400</td>\n",
       "      <td>227</td>\n",
       "      <td>36400</td>\n",
       "      <td>36400</td>\n",
       "      <td>36400</td>\n",
       "      <td>36400</td>\n",
       "      <td>36400</td>\n",
       "      <td>36386</td>\n",
       "      <td>35641</td>\n",
       "      <td>34614</td>\n",
       "      <td>34614</td>\n",
       "      <td>36400</td>\n",
       "    </tr>\n",
       "  </tbody>\n",
       "</table>\n",
       "</div>"
      ],
      "text/plain": [
       "          INCIDENT_NUMBER  OFFENSE_CODE  OFFENSE_CODE_GROUP  \\\n",
       "DISTRICT                                                      \n",
       "A1                  36735         36735               36735   \n",
       "A15                  6663          6663                6663   \n",
       "A7                  13634         13634               13634   \n",
       "B2                  51288         51288               51288   \n",
       "B3                  36400         36400               36400   \n",
       "\n",
       "          OFFENSE_DESCRIPTION  REPORTING_AREA  SHOOTING  OCCURRED_ON_DATE  \\\n",
       "DISTRICT                                                                    \n",
       "A1                      36735           36735        12             36735   \n",
       "A15                      6663            6663         5              6663   \n",
       "A7                      13634           13634        17             13634   \n",
       "B2                      51288           51288       352             51288   \n",
       "B3                      36400           36400       227             36400   \n",
       "\n",
       "           YEAR  MONTH  DAY_OF_WEEK   HOUR  UCR_PART  STREET    Lat   Long  \\\n",
       "DISTRICT                                                                     \n",
       "A1        36735  36735        36735  36735     36733   35186  32947  32947   \n",
       "A15        6663   6663         6663   6663      6663    6486   6321   6321   \n",
       "A7        13634  13634        13634  13634     13631   13328  13094  13094   \n",
       "B2        51288  51288        51288  51288     51272   49445  47488  47488   \n",
       "B3        36400  36400        36400  36400     36386   35641  34614  34614   \n",
       "\n",
       "          Location  \n",
       "DISTRICT            \n",
       "A1           36735  \n",
       "A15           6663  \n",
       "A7           13634  \n",
       "B2           51288  \n",
       "B3           36400  "
      ]
     },
     "execution_count": 9,
     "metadata": {},
     "output_type": "execute_result"
    }
   ],
   "source": [
    "groupcount.head()"
   ]
  },
  {
   "cell_type": "code",
   "execution_count": 10,
   "metadata": {},
   "outputs": [],
   "source": [
    "number=groupcount.iloc[:,0]\n",
    "number=pd.DataFrame(number)"
   ]
  },
  {
   "cell_type": "code",
   "execution_count": 11,
   "metadata": {},
   "outputs": [],
   "source": [
    "number.rename(columns={'INCIDENT_NUMBER':'NUMBER'},inplace=True)"
   ]
  },
  {
   "cell_type": "code",
   "execution_count": 12,
   "metadata": {},
   "outputs": [
    {
     "data": {
      "image/png": "[encoded data removed]",
      "text/plain": [
       "<Figure size 1080x1008 with 1 Axes>"
      ]
     },
     "metadata": {
      "needs_background": "light"
     },
     "output_type": "display_data"
    }
   ],
   "source": [
    "p1=number.plot.barh(title=r'2015-2018 boston crime-by district bar plot',figsize=(15,14))\n",
    "p1fig=p1.get_figure()\n",
    "p1fig.savefig('./total_by_district_bar.png')\n",
    "plt.show()"
   ]
  },
  {
   "cell_type": "code",
   "execution_count": 13,
   "metadata": {},
   "outputs": [],
   "source": [
    "districtsorted=number.sort_values(by='NUMBER',ascending=False)"
   ]
  },
  {
   "cell_type": "code",
   "execution_count": 14,
   "metadata": {},
   "outputs": [],
   "source": [
    "top5=districtsorted.iloc[0:5,:]"
   ]
  },
  {
   "cell_type": "code",
   "execution_count": 15,
   "metadata": {},
   "outputs": [
    {
     "data": {
      "image/png": "[encoded data removed]",
      "text/plain": [
       "<Figure size 1080x1008 with 1 Axes>"
      ]
     },
     "metadata": {
      "needs_background": "light"
     },
     "output_type": "display_data"
    }
   ],
   "source": [
    "p0=top5.plot.barh(title=r'top5 district crime bar plot',figsize=(15,14))\n",
    "p0fig=p0.get_figure()\n",
    "p0fig.savefig('./top5_district_crime_bar.png')\n",
    "plt.show()"
   ]
  },
  {
   "cell_type": "markdown",
   "metadata": {},
   "source": [
    "## Visualization-by YEAR"
   ]
  },
  {
   "cell_type": "code",
   "execution_count": 16,
   "metadata": {},
   "outputs": [],
   "source": [
    "yeargroup=original.groupby(by='YEAR')"
   ]
  },
  {
   "cell_type": "code",
   "execution_count": 17,
   "metadata": {},
   "outputs": [],
   "source": [
    "count=yeargroup.count()"
   ]
  },
  {
   "cell_type": "code",
   "execution_count": 18,
   "metadata": {},
   "outputs": [],
   "source": [
    "yearnumber=pd.DataFrame(count.iloc[:,0])"
   ]
  },
  {
   "cell_type": "code",
   "execution_count": 19,
   "metadata": {},
   "outputs": [],
   "source": [
    "yearnumber.rename(columns={'INCIDENT_NUMBER':'NUMBER'},inplace=True)"
   ]
  },
  {
   "cell_type": "code",
   "execution_count": 20,
   "metadata": {},
   "outputs": [
    {
     "data": {
      "text/html": [
       "<div>\n",
       "<style scoped>\n",
       "    .dataframe tbody tr th:only-of-type {\n",
       "        vertical-align: middle;\n",
       "    }\n",
       "\n",
       "    .dataframe tbody tr th {\n",
       "        vertical-align: top;\n",
       "    }\n",
       "\n",
       "    .dataframe thead th {\n",
       "        text-align: right;\n",
       "    }\n",
       "</style>\n",
       "<table border=\"1\" class=\"dataframe\">\n",
       "  <thead>\n",
       "    <tr style=\"text-align: right;\">\n",
       "      <th></th>\n",
       "      <th>NUMBER</th>\n",
       "    </tr>\n",
       "    <tr>\n",
       "      <th>YEAR</th>\n",
       "      <th></th>\n",
       "    </tr>\n",
       "  </thead>\n",
       "  <tbody>\n",
       "    <tr>\n",
       "      <th>2015</th>\n",
       "      <td>53392</td>\n",
       "    </tr>\n",
       "    <tr>\n",
       "      <th>2016</th>\n",
       "      <td>99134</td>\n",
       "    </tr>\n",
       "    <tr>\n",
       "      <th>2017</th>\n",
       "      <td>100938</td>\n",
       "    </tr>\n",
       "    <tr>\n",
       "      <th>2018</th>\n",
       "      <td>74356</td>\n",
       "    </tr>\n",
       "  </tbody>\n",
       "</table>\n",
       "</div>"
      ],
      "text/plain": [
       "      NUMBER\n",
       "YEAR        \n",
       "2015   53392\n",
       "2016   99134\n",
       "2017  100938\n",
       "2018   74356"
      ]
     },
     "execution_count": 20,
     "metadata": {},
     "output_type": "execute_result"
    }
   ],
   "source": [
    "yearnumber"
   ]
  },
  {
   "cell_type": "code",
   "execution_count": 21,
   "metadata": {},
   "outputs": [
    {
     "data": {
      "image/png": "[encoded data removed]",
      "text/plain": [
       "<Figure size 1080x1008 with 1 Axes>"
      ]
     },
     "metadata": {
      "needs_background": "light"
     },
     "output_type": "display_data"
    }
   ],
   "source": [
    "p2=yearnumber.plot.bar(title=r'2015-2018 crime by year bar plot',figsize=(15,14))\n",
    "p2fig=p2.get_figure()\n",
    "p2fig.savefig('./total_by_year_bar.png')\n",
    "plt.show()"
   ]
  },
  {
   "cell_type": "markdown",
   "metadata": {},
   "source": [
    "## Shooting crime summary and Visualization"
   ]
  },
  {
   "cell_type": "code",
   "execution_count": 22,
   "metadata": {},
   "outputs": [
    {
     "data": {
      "text/plain": [
       "array([nan, 'Y'], dtype=object)"
      ]
     },
     "execution_count": 22,
     "metadata": {},
     "output_type": "execute_result"
    }
   ],
   "source": [
    "original['SHOOTING'].unique()"
   ]
  },
  {
   "cell_type": "code",
   "execution_count": 23,
   "metadata": {},
   "outputs": [
    {
     "data": {
      "text/plain": [
       "(327820, 17)"
      ]
     },
     "execution_count": 23,
     "metadata": {},
     "output_type": "execute_result"
    }
   ],
   "source": [
    "original.shape"
   ]
  },
  {
   "cell_type": "code",
   "execution_count": 24,
   "metadata": {},
   "outputs": [],
   "source": [
    "original['SHOOTING']=original['SHOOTING'].fillna('N')"
   ]
  },
  {
   "cell_type": "code",
   "execution_count": 25,
   "metadata": {},
   "outputs": [
    {
     "data": {
      "text/plain": [
       "array(['N', 'Y'], dtype=object)"
      ]
     },
     "execution_count": 25,
     "metadata": {},
     "output_type": "execute_result"
    }
   ],
   "source": [
    "original['SHOOTING'].unique()"
   ]
  },
  {
   "cell_type": "code",
   "execution_count": 26,
   "metadata": {},
   "outputs": [],
   "source": [
    "shooting=original.loc[:,'SHOOTING']\n",
    "shooting=pd.get_dummies(shooting)"
   ]
  },
  {
   "cell_type": "code",
   "execution_count": 27,
   "metadata": {},
   "outputs": [],
   "source": [
    "original=original.join(shooting)"
   ]
  },
  {
   "cell_type": "code",
   "execution_count": 28,
   "metadata": {},
   "outputs": [],
   "source": [
    "original.drop(columns='SHOOTING',inplace=True)"
   ]
  },
  {
   "cell_type": "code",
   "execution_count": 29,
   "metadata": {},
   "outputs": [
    {
     "data": {
      "text/html": [
       "<div>\n",
       "<style scoped>\n",
       "    .dataframe tbody tr th:only-of-type {\n",
       "        vertical-align: middle;\n",
       "    }\n",
       "\n",
       "    .dataframe tbody tr th {\n",
       "        vertical-align: top;\n",
       "    }\n",
       "\n",
       "    .dataframe thead th {\n",
       "        text-align: right;\n",
       "    }\n",
       "</style>\n",
       "<table border=\"1\" class=\"dataframe\">\n",
       "  <thead>\n",
       "    <tr style=\"text-align: right;\">\n",
       "      <th></th>\n",
       "      <th>INCIDENT_NUMBER</th>\n",
       "      <th>OFFENSE_CODE</th>\n",
       "      <th>OFFENSE_CODE_GROUP</th>\n",
       "      <th>OFFENSE_DESCRIPTION</th>\n",
       "      <th>DISTRICT</th>\n",
       "      <th>REPORTING_AREA</th>\n",
       "      <th>OCCURRED_ON_DATE</th>\n",
       "      <th>YEAR</th>\n",
       "      <th>MONTH</th>\n",
       "      <th>DAY_OF_WEEK</th>\n",
       "      <th>HOUR</th>\n",
       "      <th>UCR_PART</th>\n",
       "      <th>STREET</th>\n",
       "      <th>Lat</th>\n",
       "      <th>Long</th>\n",
       "      <th>Location</th>\n",
       "      <th>N</th>\n",
       "      <th>Y</th>\n",
       "    </tr>\n",
       "  </thead>\n",
       "  <tbody>\n",
       "    <tr>\n",
       "      <th>0</th>\n",
       "      <td>I182080058</td>\n",
       "      <td>2403</td>\n",
       "      <td>Disorderly Conduct</td>\n",
       "      <td>DISTURBING THE PEACE</td>\n",
       "      <td>E18</td>\n",
       "      <td>495</td>\n",
       "      <td>2018-10-03 20:13:00</td>\n",
       "      <td>2018</td>\n",
       "      <td>10</td>\n",
       "      <td>Wednesday</td>\n",
       "      <td>20</td>\n",
       "      <td>Part Two</td>\n",
       "      <td>ARLINGTON ST</td>\n",
       "      <td>42.262608</td>\n",
       "      <td>-71.121186</td>\n",
       "      <td>(42.26260773, -71.12118637)</td>\n",
       "      <td>1</td>\n",
       "      <td>0</td>\n",
       "    </tr>\n",
       "    <tr>\n",
       "      <th>1</th>\n",
       "      <td>I182080053</td>\n",
       "      <td>3201</td>\n",
       "      <td>Property Lost</td>\n",
       "      <td>PROPERTY - LOST</td>\n",
       "      <td>D14</td>\n",
       "      <td>795</td>\n",
       "      <td>2018-08-30 20:00:00</td>\n",
       "      <td>2018</td>\n",
       "      <td>8</td>\n",
       "      <td>Thursday</td>\n",
       "      <td>20</td>\n",
       "      <td>Part Three</td>\n",
       "      <td>ALLSTON ST</td>\n",
       "      <td>42.352111</td>\n",
       "      <td>-71.135311</td>\n",
       "      <td>(42.35211146, -71.13531147)</td>\n",
       "      <td>1</td>\n",
       "      <td>0</td>\n",
       "    </tr>\n",
       "    <tr>\n",
       "      <th>2</th>\n",
       "      <td>I182080052</td>\n",
       "      <td>2647</td>\n",
       "      <td>Other</td>\n",
       "      <td>THREATS TO DO BODILY HARM</td>\n",
       "      <td>B2</td>\n",
       "      <td>329</td>\n",
       "      <td>2018-10-03 19:20:00</td>\n",
       "      <td>2018</td>\n",
       "      <td>10</td>\n",
       "      <td>Wednesday</td>\n",
       "      <td>19</td>\n",
       "      <td>Part Two</td>\n",
       "      <td>DEVON ST</td>\n",
       "      <td>42.308126</td>\n",
       "      <td>-71.076930</td>\n",
       "      <td>(42.30812619, -71.07692974)</td>\n",
       "      <td>1</td>\n",
       "      <td>0</td>\n",
       "    </tr>\n",
       "    <tr>\n",
       "      <th>3</th>\n",
       "      <td>I182080051</td>\n",
       "      <td>413</td>\n",
       "      <td>Aggravated Assault</td>\n",
       "      <td>ASSAULT - AGGRAVATED - BATTERY</td>\n",
       "      <td>A1</td>\n",
       "      <td>92</td>\n",
       "      <td>2018-10-03 20:00:00</td>\n",
       "      <td>2018</td>\n",
       "      <td>10</td>\n",
       "      <td>Wednesday</td>\n",
       "      <td>20</td>\n",
       "      <td>Part One</td>\n",
       "      <td>CAMBRIDGE ST</td>\n",
       "      <td>42.359454</td>\n",
       "      <td>-71.059648</td>\n",
       "      <td>(42.35945371, -71.05964817)</td>\n",
       "      <td>1</td>\n",
       "      <td>0</td>\n",
       "    </tr>\n",
       "    <tr>\n",
       "      <th>4</th>\n",
       "      <td>I182080050</td>\n",
       "      <td>3122</td>\n",
       "      <td>Aircraft</td>\n",
       "      <td>AIRCRAFT INCIDENTS</td>\n",
       "      <td>A7</td>\n",
       "      <td>36</td>\n",
       "      <td>2018-10-03 20:49:00</td>\n",
       "      <td>2018</td>\n",
       "      <td>10</td>\n",
       "      <td>Wednesday</td>\n",
       "      <td>20</td>\n",
       "      <td>Part Three</td>\n",
       "      <td>PRESCOTT ST</td>\n",
       "      <td>42.375258</td>\n",
       "      <td>-71.024663</td>\n",
       "      <td>(42.37525782, -71.02466343)</td>\n",
       "      <td>1</td>\n",
       "      <td>0</td>\n",
       "    </tr>\n",
       "  </tbody>\n",
       "</table>\n",
       "</div>"
      ],
      "text/plain": [
       "  INCIDENT_NUMBER  OFFENSE_CODE  OFFENSE_CODE_GROUP  \\\n",
       "0      I182080058          2403  Disorderly Conduct   \n",
       "1      I182080053          3201       Property Lost   \n",
       "2      I182080052          2647               Other   \n",
       "3      I182080051           413  Aggravated Assault   \n",
       "4      I182080050          3122            Aircraft   \n",
       "\n",
       "              OFFENSE_DESCRIPTION DISTRICT REPORTING_AREA    OCCURRED_ON_DATE  \\\n",
       "0            DISTURBING THE PEACE      E18            495 2018-10-03 20:13:00   \n",
       "1                 PROPERTY - LOST      D14            795 2018-08-30 20:00:00   \n",
       "2       THREATS TO DO BODILY HARM       B2            329 2018-10-03 19:20:00   \n",
       "3  ASSAULT - AGGRAVATED - BATTERY       A1             92 2018-10-03 20:00:00   \n",
       "4              AIRCRAFT INCIDENTS       A7             36 2018-10-03 20:49:00   \n",
       "\n",
       "   YEAR  MONTH DAY_OF_WEEK  HOUR    UCR_PART        STREET        Lat  \\\n",
       "0  2018     10   Wednesday    20    Part Two  ARLINGTON ST  42.262608   \n",
       "1  2018      8    Thursday    20  Part Three    ALLSTON ST  42.352111   \n",
       "2  2018     10   Wednesday    19    Part Two      DEVON ST  42.308126   \n",
       "3  2018     10   Wednesday    20    Part One  CAMBRIDGE ST  42.359454   \n",
       "4  2018     10   Wednesday    20  Part Three   PRESCOTT ST  42.375258   \n",
       "\n",
       "        Long                     Location  N  Y  \n",
       "0 -71.121186  (42.26260773, -71.12118637)  1  0  \n",
       "1 -71.135311  (42.35211146, -71.13531147)  1  0  \n",
       "2 -71.076930  (42.30812619, -71.07692974)  1  0  \n",
       "3 -71.059648  (42.35945371, -71.05964817)  1  0  \n",
       "4 -71.024663  (42.37525782, -71.02466343)  1  0  "
      ]
     },
     "execution_count": 29,
     "metadata": {},
     "output_type": "execute_result"
    }
   ],
   "source": [
    "original.head()"
   ]
  },
  {
   "cell_type": "code",
   "execution_count": 30,
   "metadata": {},
   "outputs": [],
   "source": [
    "shootcrime=pd.pivot_table(original,index='YEAR',columns='DISTRICT',values='Y',aggfunc=np.sum)"
   ]
  },
  {
   "cell_type": "code",
   "execution_count": 31,
   "metadata": {},
   "outputs": [
    {
     "data": {
      "image/png": "[encoded data removed]",
      "text/plain": [
       "<Figure size 1080x1008 with 1 Axes>"
      ]
     },
     "metadata": {
      "needs_background": "light"
     },
     "output_type": "display_data"
    }
   ],
   "source": [
    "p3=shootcrime.plot.barh(title=r'2015-2018 crime has shooting bar plot',figsize=(15,14),stacked=True)\n",
    "p3fig=p3.get_figure()\n",
    "p3fig.savefig('./total_shooting_crime_barh.png')\n",
    "plt.show()"
   ]
  },
  {
   "cell_type": "code",
   "execution_count": 32,
   "metadata": {},
   "outputs": [
    {
     "data": {
      "text/html": [
       "<div>\n",
       "<style scoped>\n",
       "    .dataframe tbody tr th:only-of-type {\n",
       "        vertical-align: middle;\n",
       "    }\n",
       "\n",
       "    .dataframe tbody tr th {\n",
       "        vertical-align: top;\n",
       "    }\n",
       "\n",
       "    .dataframe thead th {\n",
       "        text-align: right;\n",
       "    }\n",
       "</style>\n",
       "<table border=\"1\" class=\"dataframe\">\n",
       "  <thead>\n",
       "    <tr style=\"text-align: right;\">\n",
       "      <th>DISTRICT</th>\n",
       "      <th>A1</th>\n",
       "      <th>A15</th>\n",
       "      <th>A7</th>\n",
       "      <th>B2</th>\n",
       "      <th>B3</th>\n",
       "      <th>C11</th>\n",
       "      <th>C6</th>\n",
       "      <th>D14</th>\n",
       "      <th>D4</th>\n",
       "      <th>E13</th>\n",
       "      <th>E18</th>\n",
       "      <th>E5</th>\n",
       "    </tr>\n",
       "    <tr>\n",
       "      <th>YEAR</th>\n",
       "      <th></th>\n",
       "      <th></th>\n",
       "      <th></th>\n",
       "      <th></th>\n",
       "      <th></th>\n",
       "      <th></th>\n",
       "      <th></th>\n",
       "      <th></th>\n",
       "      <th></th>\n",
       "      <th></th>\n",
       "      <th></th>\n",
       "      <th></th>\n",
       "    </tr>\n",
       "  </thead>\n",
       "  <tbody>\n",
       "    <tr>\n",
       "      <th>2015</th>\n",
       "      <td>1</td>\n",
       "      <td>1</td>\n",
       "      <td>2</td>\n",
       "      <td>73</td>\n",
       "      <td>28</td>\n",
       "      <td>26</td>\n",
       "      <td>4</td>\n",
       "      <td>7</td>\n",
       "      <td>11</td>\n",
       "      <td>13</td>\n",
       "      <td>6</td>\n",
       "      <td>11</td>\n",
       "    </tr>\n",
       "    <tr>\n",
       "      <th>2016</th>\n",
       "      <td>2</td>\n",
       "      <td>1</td>\n",
       "      <td>6</td>\n",
       "      <td>106</td>\n",
       "      <td>73</td>\n",
       "      <td>46</td>\n",
       "      <td>8</td>\n",
       "      <td>3</td>\n",
       "      <td>9</td>\n",
       "      <td>16</td>\n",
       "      <td>8</td>\n",
       "      <td>1</td>\n",
       "    </tr>\n",
       "    <tr>\n",
       "      <th>2017</th>\n",
       "      <td>8</td>\n",
       "      <td>1</td>\n",
       "      <td>4</td>\n",
       "      <td>99</td>\n",
       "      <td>90</td>\n",
       "      <td>83</td>\n",
       "      <td>20</td>\n",
       "      <td>2</td>\n",
       "      <td>20</td>\n",
       "      <td>24</td>\n",
       "      <td>14</td>\n",
       "      <td>6</td>\n",
       "    </tr>\n",
       "    <tr>\n",
       "      <th>2018</th>\n",
       "      <td>1</td>\n",
       "      <td>2</td>\n",
       "      <td>5</td>\n",
       "      <td>74</td>\n",
       "      <td>36</td>\n",
       "      <td>40</td>\n",
       "      <td>9</td>\n",
       "      <td>9</td>\n",
       "      <td>19</td>\n",
       "      <td>17</td>\n",
       "      <td>7</td>\n",
       "      <td>1</td>\n",
       "    </tr>\n",
       "  </tbody>\n",
       "</table>\n",
       "</div>"
      ],
      "text/plain": [
       "DISTRICT  A1  A15  A7   B2  B3  C11  C6  D14  D4  E13  E18  E5\n",
       "YEAR                                                          \n",
       "2015       1    1   2   73  28   26   4    7  11   13    6  11\n",
       "2016       2    1   6  106  73   46   8    3   9   16    8   1\n",
       "2017       8    1   4   99  90   83  20    2  20   24   14   6\n",
       "2018       1    2   5   74  36   40   9    9  19   17    7   1"
      ]
     },
     "execution_count": 32,
     "metadata": {},
     "output_type": "execute_result"
    }
   ],
   "source": [
    "shootcrime"
   ]
  },
  {
   "cell_type": "code",
   "execution_count": 33,
   "metadata": {},
   "outputs": [],
   "source": [
    "districtSum=shootcrime.apply(np.sum)\n",
    "districtSum=pd.DataFrame(districtSum)"
   ]
  },
  {
   "cell_type": "code",
   "execution_count": 34,
   "metadata": {},
   "outputs": [],
   "source": [
    "districtSum=districtSum.rename(columns={0:r'shooting total'})"
   ]
  },
  {
   "cell_type": "code",
   "execution_count": 35,
   "metadata": {},
   "outputs": [],
   "source": [
    "districtSum=districtSum.sort_values(by=r'shooting total',ascending=False)"
   ]
  },
  {
   "cell_type": "code",
   "execution_count": 36,
   "metadata": {},
   "outputs": [],
   "source": [
    "top5=districtSum.iloc[0:5,:]"
   ]
  },
  {
   "cell_type": "code",
   "execution_count": 37,
   "metadata": {},
   "outputs": [
    {
     "data": {
      "image/png": "[encoded data removed]",
      "text/plain": [
       "<Figure size 1080x1008 with 1 Axes>"
      ]
     },
     "metadata": {
      "needs_background": "light"
     },
     "output_type": "display_data"
    }
   ],
   "source": [
    "p4=top5.plot.barh(title=r'shooting crime top5 district',figsize=(15,14))\n",
    "p4fig=p4.get_figure()\n",
    "p4fig.savefig('./shooting_crime_top5_bar.png')\n",
    "plt.show()"
   ]
  },
  {
   "cell_type": "markdown",
   "metadata": {},
   "source": [
    "## Visualization-by Month"
   ]
  },
  {
   "cell_type": "code",
   "execution_count": 38,
   "metadata": {},
   "outputs": [],
   "source": [
    "byMonth=original.groupby(by='MONTH')"
   ]
  },
  {
   "cell_type": "code",
   "execution_count": 39,
   "metadata": {},
   "outputs": [],
   "source": [
    "Monthcount=byMonth.count()"
   ]
  },
  {
   "cell_type": "code",
   "execution_count": 40,
   "metadata": {},
   "outputs": [],
   "source": [
    "MonthNumber=pd.DataFrame(Monthcount.iloc[:,0])"
   ]
  },
  {
   "cell_type": "code",
   "execution_count": 41,
   "metadata": {},
   "outputs": [
    {
     "data": {
      "image/png": "[encoded data removed]",
      "text/plain": [
       "<Figure size 1080x1008 with 1 Axes>"
      ]
     },
     "metadata": {
      "needs_background": "light"
     },
     "output_type": "display_data"
    }
   ],
   "source": [
    "MonthNumber=MonthNumber.rename(columns={'INCIDENT_NUMBER':'NUMBER'})\n",
    "p5=MonthNumber.plot.bar(title=r'2015-2018 crime total by month bar plot',figsize=(15,14))\n",
    "p5fig=p5.get_figure()\n",
    "p5fig.savefig('./total_by_month_bar.png')\n",
    "plt.show()"
   ]
  },
  {
   "cell_type": "code",
   "execution_count": null,
   "metadata": {},
   "outputs": [],
   "source": []
  }
 ],
 "metadata": {
  "kernelspec": {
   "display_name": "Python 3",
   "language": "python",
   "name": "python3"
  },
  "language_info": {
   "codemirror_mode": {
    "name": "ipython",
    "version": 3
   },
   "file_extension": ".py",
   "mimetype": "text/x-python",
   "name": "python",
   "nbconvert_exporter": "python",
   "pygments_lexer": "ipython3",
   "version": "3.7.1"
  }
 },
 "nbformat": 4,
 "nbformat_minor": 2
}
